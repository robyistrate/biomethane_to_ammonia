{
 "cells": [
  {
   "cell_type": "markdown",
   "metadata": {},
   "source": [
    "# Biomethane-to-Ammonia - Sensitivity analysis\n",
    "\n",
    "This notebook performs sensitivity analysis using the presamples package and export the results.\n",
    "\n",
    "**IMPORTANT**:\n",
    "\n",
    "In order to avoid the decoding presample json file fails, you need to install the latest presample version, i.e. 0.2.8.\n",
    "\n",
    "However, the package has not been updated on pypi. To have version 0.2.8, you must install from source:\n",
    "\n",
    "*python -m pip install git+https://github.com/PascalLesage/presamples.git@master*\n",
    "\n",
    "Further information here: https://github.com/PascalLesage/presamples/issues/72"
   ]
  },
  {
   "cell_type": "code",
   "execution_count": 1,
   "metadata": {},
   "outputs": [],
   "source": [
    "%run _imports.ipynb"
   ]
  },
  {
   "cell_type": "markdown",
   "metadata": {},
   "source": [
    "## Methane leakage sensitivity analysis"
   ]
  },
  {
   "cell_type": "code",
   "execution_count": 21,
   "metadata": {},
   "outputs": [
    {
     "data": {
      "text/plain": [
       "['ammonia production, liquid, bio-ammonia from biomethane w/ CCS' (kilogram, RER, None),\n",
       " 'ammonia production, liquid, bio-ammonia from biomethane, syngas w/ CCS' (kilogram, RER, None),\n",
       " 'ammonia production, liquid, bio-ammonia from biomethane, syngas w/ CCS, heating w/ CCS' (kilogram, RER, None),\n",
       " 'ammonia production, liquid, bio-ammonia from biomethane w/ CCS, syngas w/ CCS' (kilogram, RER, None),\n",
       " 'ammonia production, liquid, bio-ammonia from biomethane w/ CCS, syngas w/ CCS, heating w/ CCS' (kilogram, RER, None),\n",
       " 'ammonia production, liquid, bio-ammonia from biomethane' (kilogram, RER, None)]"
      ]
     },
     "execution_count": 21,
     "metadata": {},
     "output_type": "execute_result"
    }
   ],
   "source": [
    "assessed_ds = [a for a in bw.Database(LCI_DB) if \"ammonia production, liquid, bio-ammonia from biomethane\" in a['name'] and a['location'] == 'RER']\n",
    "assessed_ds"
   ]
  },
  {
   "cell_type": "code",
   "execution_count": 22,
   "metadata": {},
   "outputs": [
    {
     "name": "stdout",
     "output_type": "stream",
     "text": [
      "\n",
      " ps_id, filepath: 9f672eeb48b648da8081b7296a65b175 C:\\Users\\istrateir\\AppData\\Local\\pylca\\Brightway3\\iri_work.4ee317080836a482ef8d98dd52304958\\presamples\\9f672eeb48b648da8081b7296a65b175\n"
     ]
    },
    {
     "name": "stderr",
     "output_type": "stream",
     "text": [
      "c:\\Users\\istrateir\\Anaconda3\\envs\\iri\\lib\\site-packages\\scipy\\sparse\\_index.py:146: SparseEfficiencyWarning: Changing the sparsity structure of a csr_matrix is expensive. lil_matrix is more efficient.\n",
      "  self._set_arrayXarray(i, j, x)\n"
     ]
    },
    {
     "name": "stdout",
     "output_type": "stream",
     "text": [
      "\n",
      " ps_id, filepath: e9b0616123074917a2fef11c3cd21cc5 C:\\Users\\istrateir\\AppData\\Local\\pylca\\Brightway3\\iri_work.4ee317080836a482ef8d98dd52304958\\presamples\\e9b0616123074917a2fef11c3cd21cc5\n"
     ]
    },
    {
     "name": "stderr",
     "output_type": "stream",
     "text": [
      "c:\\Users\\istrateir\\Anaconda3\\envs\\iri\\lib\\site-packages\\scipy\\sparse\\_index.py:146: SparseEfficiencyWarning: Changing the sparsity structure of a csr_matrix is expensive. lil_matrix is more efficient.\n",
      "  self._set_arrayXarray(i, j, x)\n"
     ]
    },
    {
     "name": "stdout",
     "output_type": "stream",
     "text": [
      "\n",
      " ps_id, filepath: 687632548a24436ab029d0977ad83226 C:\\Users\\istrateir\\AppData\\Local\\pylca\\Brightway3\\iri_work.4ee317080836a482ef8d98dd52304958\\presamples\\687632548a24436ab029d0977ad83226\n"
     ]
    },
    {
     "name": "stderr",
     "output_type": "stream",
     "text": [
      "c:\\Users\\istrateir\\Anaconda3\\envs\\iri\\lib\\site-packages\\scipy\\sparse\\_index.py:146: SparseEfficiencyWarning: Changing the sparsity structure of a csr_matrix is expensive. lil_matrix is more efficient.\n",
      "  self._set_arrayXarray(i, j, x)\n"
     ]
    },
    {
     "name": "stdout",
     "output_type": "stream",
     "text": [
      "\n",
      " ps_id, filepath: 4171b832eb9a48fdb56e96b2d073bf30 C:\\Users\\istrateir\\AppData\\Local\\pylca\\Brightway3\\iri_work.4ee317080836a482ef8d98dd52304958\\presamples\\4171b832eb9a48fdb56e96b2d073bf30\n"
     ]
    },
    {
     "name": "stderr",
     "output_type": "stream",
     "text": [
      "c:\\Users\\istrateir\\Anaconda3\\envs\\iri\\lib\\site-packages\\scipy\\sparse\\_index.py:146: SparseEfficiencyWarning: Changing the sparsity structure of a csr_matrix is expensive. lil_matrix is more efficient.\n",
      "  self._set_arrayXarray(i, j, x)\n"
     ]
    },
    {
     "name": "stdout",
     "output_type": "stream",
     "text": [
      "\n",
      " ps_id, filepath: a8e7e90af0f84f748430203921c206e8 C:\\Users\\istrateir\\AppData\\Local\\pylca\\Brightway3\\iri_work.4ee317080836a482ef8d98dd52304958\\presamples\\a8e7e90af0f84f748430203921c206e8\n"
     ]
    },
    {
     "name": "stderr",
     "output_type": "stream",
     "text": [
      "c:\\Users\\istrateir\\Anaconda3\\envs\\iri\\lib\\site-packages\\scipy\\sparse\\_index.py:146: SparseEfficiencyWarning: Changing the sparsity structure of a csr_matrix is expensive. lil_matrix is more efficient.\n",
      "  self._set_arrayXarray(i, j, x)\n"
     ]
    },
    {
     "name": "stdout",
     "output_type": "stream",
     "text": [
      "\n",
      " ps_id, filepath: 3118b6e72cef42b48fac3f4f4b7c270c C:\\Users\\istrateir\\AppData\\Local\\pylca\\Brightway3\\iri_work.4ee317080836a482ef8d98dd52304958\\presamples\\3118b6e72cef42b48fac3f4f4b7c270c\n"
     ]
    },
    {
     "name": "stderr",
     "output_type": "stream",
     "text": [
      "c:\\Users\\istrateir\\Anaconda3\\envs\\iri\\lib\\site-packages\\scipy\\sparse\\_index.py:146: SparseEfficiencyWarning: Changing the sparsity structure of a csr_matrix is expensive. lil_matrix is more efficient.\n",
      "  self._set_arrayXarray(i, j, x)\n"
     ]
    }
   ],
   "source": [
    "scenario_file = Path(DATA_DIR / \"SA_methane leakage_for presample.xlsx\")\n",
    "SA_methane_leakage_results = {}\n",
    "\n",
    "for ds in assessed_ds:\n",
    "    scenario = [key for key, value in INVENTORIES.items() if value == (ds[\"name\"], ds[\"reference product\"])][0]\n",
    "\n",
    "    # Read the excel file to get the scenario data\n",
    "    scenario_label, scenario_data = results_analysis.read_ps_scenario_data(scenario_file, dbs=[ECOINVENT_DB, LCI_DB])\n",
    "\n",
    "    # Create PS package with indices + samples matrix\n",
    "    ps_packagename = \"ps_v1\"\n",
    "    ps_filepath_v1 =  results_analysis.make_ps_package(scenario_data, scenario_label, ps_packagename)\n",
    "\n",
    "    # Calculate impacts with presample\n",
    "    SA_lca_results = results_analysis.calculate_impacts_with_ps(ps_filepath_v1, scenario_label, ds, IPCC_METHOD)\n",
    "\n",
    "    SA_methane_leakage_results.update(\n",
    "        {scenario: {\n",
    "            key: value['Climate change, GWP 100a'] for key, value in SA_lca_results.to_dict().items()\n",
    "            }\n",
    "        }\n",
    "    )"
   ]
  },
  {
   "cell_type": "code",
   "execution_count": 23,
   "metadata": {},
   "outputs": [],
   "source": [
    "SA_methane_leakage_results_df = pd.DataFrame(SA_methane_leakage_results).T\n",
    "\n",
    "# Move default column to he first position\n",
    "default_col = SA_methane_leakage_results_df.pop(\"default\")\n",
    "SA_methane_leakage_results_df.insert(0, default_col.name, default_col)"
   ]
  },
  {
   "cell_type": "code",
   "execution_count": null,
   "metadata": {},
   "outputs": [],
   "source": [
    "# Save results to csv\n",
    "#SA_methane_leakage_results_df.to_csv(DATA_DIR / \"results\" / f\"Fig S1 Sensitivity analysis carbon footprint ammonia methane leakage_{datetime.datetime.today().strftime('%d-%m-%Y')}.csv\", index_label=\"Scenario\")"
   ]
  },
  {
   "cell_type": "markdown",
   "metadata": {},
   "source": [
    "## Biogas upgrading technology sensitivity analysis"
   ]
  },
  {
   "cell_type": "code",
   "execution_count": 25,
   "metadata": {},
   "outputs": [
    {
     "data": {
      "text/plain": [
       "['ammonia production, liquid, bio-ammonia from biomethane' (kilogram, RER, None),\n",
       " 'ammonia production, liquid, bio-ammonia from biomethane, syngas w/ CCS, heating w/ CCS' (kilogram, RER, None),\n",
       " 'ammonia production, liquid, bio-ammonia from biomethane, syngas w/ CCS' (kilogram, RER, None),\n",
       " 'ammonia production, liquid, bio-ammonia from biomethane w/ CCS, syngas w/ CCS' (kilogram, RER, None),\n",
       " 'ammonia production, liquid, bio-ammonia from biomethane w/ CCS' (kilogram, RER, None),\n",
       " 'ammonia production, liquid, bio-ammonia from biomethane w/ CCS, syngas w/ CCS, heating w/ CCS' (kilogram, RER, None)]"
      ]
     },
     "execution_count": 25,
     "metadata": {},
     "output_type": "execute_result"
    }
   ],
   "source": [
    "ds_for_sa = [a for a in bw.Database(LCI_DB) if \"ammonia production, liquid, bio-ammonia from biomethane\" in a['name'] and a['location'] == 'RER']\n",
    "ds_for_sa"
   ]
  },
  {
   "cell_type": "code",
   "execution_count": 26,
   "metadata": {},
   "outputs": [
    {
     "name": "stdout",
     "output_type": "stream",
     "text": [
      "\n",
      " ps_id, filepath: ffe45d3b774d40bcae26b3b8adc9006b C:\\Users\\istrateir\\AppData\\Local\\pylca\\Brightway3\\iri_work.4ee317080836a482ef8d98dd52304958\\presamples\\ffe45d3b774d40bcae26b3b8adc9006b\n",
      "\n",
      " ps_id, filepath: a69c8c1f2aa54e1c87757ea6940e5f91 C:\\Users\\istrateir\\AppData\\Local\\pylca\\Brightway3\\iri_work.4ee317080836a482ef8d98dd52304958\\presamples\\a69c8c1f2aa54e1c87757ea6940e5f91\n",
      "\n",
      " ps_id, filepath: b81f05f6d1944ba282950fa893cde1df C:\\Users\\istrateir\\AppData\\Local\\pylca\\Brightway3\\iri_work.4ee317080836a482ef8d98dd52304958\\presamples\\b81f05f6d1944ba282950fa893cde1df\n",
      "\n",
      " ps_id, filepath: 95602da57eae43de8b43c8a6d194e8a6 C:\\Users\\istrateir\\AppData\\Local\\pylca\\Brightway3\\iri_work.4ee317080836a482ef8d98dd52304958\\presamples\\95602da57eae43de8b43c8a6d194e8a6\n",
      "\n",
      " ps_id, filepath: 58f89ab0671145a08681c7f56f33f9c6 C:\\Users\\istrateir\\AppData\\Local\\pylca\\Brightway3\\iri_work.4ee317080836a482ef8d98dd52304958\\presamples\\58f89ab0671145a08681c7f56f33f9c6\n",
      "\n",
      " ps_id, filepath: 6a06d6278f6b449b9813d84ffcb530d0 C:\\Users\\istrateir\\AppData\\Local\\pylca\\Brightway3\\iri_work.4ee317080836a482ef8d98dd52304958\\presamples\\6a06d6278f6b449b9813d84ffcb530d0\n"
     ]
    }
   ],
   "source": [
    "scenario_file = Path(DATA_DIR / \"SA_upgrading technology_presamples.xlsx\")\n",
    "\n",
    "SA_upgradingtechnology_results = {}\n",
    "\n",
    "for ds in ds_for_sa:\n",
    "    scenario = [key for key, value in INVENTORIES.items() if value == (ds[\"name\"], ds[\"reference product\"])][0]\n",
    "\n",
    "    # Read the excel file to get the scenario data\n",
    "    scenario_label, scenario_data = results_analysis.read_ps_scenario_data(scenario_file, dbs=[ECOINVENT_DB, LCI_DB])\n",
    "\n",
    "    # Create PS package with indices + samples matrix\n",
    "    ps_packagename = \"ps_v1\"\n",
    "    ps_filepath_v1 =  results_analysis.make_ps_package(scenario_data, scenario_label, ps_packagename)\n",
    "\n",
    "    # Calculate impacts with presample\n",
    "    SA_lca_results = results_analysis.calculate_impacts_with_ps(ps_filepath_v1, scenario_label, ds, LCIA_METHODS)\n",
    "\n",
    "    SA_upgradingtechnology_results.update(\n",
    "        {\n",
    "            scenario: SA_lca_results.to_dict()\n",
    "        }\n",
    "    )"
   ]
  },
  {
   "cell_type": "code",
   "execution_count": 27,
   "metadata": {},
   "outputs": [],
   "source": [
    "# Results for carbon footprint\n",
    "SA_upgradingtechnology_carbon_footprint = {}\n",
    "SA_upgradingtechnology_carbon_footprint.update(\n",
    "    {\n",
    "        scenario: {key: value['Climate change, GWP 100a'] for key, value in SA_upgradingtechnology_results[scenario].items()\n",
    "                }\n",
    "                for scenario in SA_upgradingtechnology_results.keys()\n",
    "        }\n",
    ")"
   ]
  },
  {
   "cell_type": "code",
   "execution_count": null,
   "metadata": {},
   "outputs": [],
   "source": [
    "# Save results to csv\n",
    "#pd.DataFrame(SA_upgradingtechnology_carbon_footprint).T.to_csv(DATA_DIR / \"results\" / f\"Fig S3 Sensitivity analysis carbon footprint ammonia upgrading technology_{datetime.datetime.today().strftime('%d-%m-%Y')}.csv\", index_label=\"Scenario\")"
   ]
  },
  {
   "cell_type": "markdown",
   "metadata": {},
   "source": [
    "## One-at-a-time (OAT) sensitivity analysis"
   ]
  },
  {
   "cell_type": "code",
   "execution_count": 2,
   "metadata": {},
   "outputs": [
    {
     "data": {
      "text/plain": [
       "'ammonia production, liquid, bio-ammonia from biomethane w/ CCS, syngas w/ CCS, heating w/ CCS' (kilogram, RER, None)"
      ]
     },
     "execution_count": 2,
     "metadata": {},
     "output_type": "execute_result"
    }
   ],
   "source": [
    "assessed_ds = [a for a in bw.Database(LCI_DB) if a['name'] == \"ammonia production, liquid, bio-ammonia from biomethane w/ CCS, syngas w/ CCS, heating w/ CCS\"\n",
    "                                and a['location'] == 'RER'][0]\n",
    "\n",
    "assessed_ds"
   ]
  },
  {
   "cell_type": "code",
   "execution_count": 3,
   "metadata": {},
   "outputs": [],
   "source": [
    "product_for_oat = [\n",
    "    \"biogas\",\n",
    "    \"animal manure\",\n",
    "    \"oat forage, sequential crop\",\n",
    "    \"biomethane, 24 bar\",\n",
    "    \"heat, district or industrial\",\n",
    "    \"carbon dioxide capture, chemical absorption, with transport and storage, 200 km pipeline sotage 1000m\",\n",
    "    \"carbon dioxide transport and storage, 200 km pipeline, storage 1000m\",\n",
    "  #  \"pipeline for carbon dioxide transport, supercritical, 200km w/o recompression\",\n",
    "  #  \"drilling, deep borehole/m\"\n",
    "]\n",
    "\n",
    "ds_for_oat = [a for a in bw.Database(LCI_DB) if a[\"location\"] == \"RER\" and\n",
    "                                                a[\"reference product\"] in product_for_oat and\n",
    "                                                \"market for\" not in a[\"name\"]]\n",
    "\n",
    "# Add assessed dataset\n",
    "ds_for_oat += [assessed_ds]\n",
    "\n",
    "# Drop not relevant datasets\n",
    "for item in ds_for_oat:\n",
    "    if item[\"reference product\"] in [\"biomethane, 24 bar\", \"heat, district or industrial\"]:\n",
    "        if (\"w/ CCS\") not in item[\"name\"]:\n",
    "          ds_to_drop = [a for a in ds_for_oat if a[\"name\"] == item[\"name\"]][0]\n",
    "          ds_for_oat.remove(ds_to_drop)"
   ]
  },
  {
   "cell_type": "code",
   "execution_count": 4,
   "metadata": {},
   "outputs": [
    {
     "name": "stdout",
     "output_type": "stream",
     "text": [
      "\n",
      " ps_id, filepath: b5dad24712f34752871e06e586fb979b C:\\Users\\istrateir\\AppData\\Local\\pylca\\Brightway3\\iri_work.4ee317080836a482ef8d98dd52304958\\presamples\\b5dad24712f34752871e06e586fb979b\n",
      "\n",
      " ps_id, filepath: 8d22322766e4445c8daeb96dff2a40cb C:\\Users\\istrateir\\AppData\\Local\\pylca\\Brightway3\\iri_work.4ee317080836a482ef8d98dd52304958\\presamples\\8d22322766e4445c8daeb96dff2a40cb\n"
     ]
    }
   ],
   "source": [
    "perturbation_analysis_results = results_analysis.perturbation_analysis_with_ps(assessed_ds, ds_for_oat, [ECOINVENT_DB, LCI_DB], IPCC_METHOD)"
   ]
  },
  {
   "cell_type": "code",
   "execution_count": 94,
   "metadata": {},
   "outputs": [],
   "source": [
    "# Save results to csv\n",
    "#perturbation_analysis_results.to_csv(DATA_DIR / \"results\" / f\"Fig S6 Perturbation analysis carbon footprint scenario full CCS_{datetime.datetime.today().strftime('%d-%m-%Y')}.csv\", index_label=\"Scenario\")"
   ]
  }
 ],
 "metadata": {
  "kernelspec": {
   "display_name": "iri",
   "language": "python",
   "name": "python3"
  },
  "language_info": {
   "codemirror_mode": {
    "name": "ipython",
    "version": 3
   },
   "file_extension": ".py",
   "mimetype": "text/x-python",
   "name": "python",
   "nbconvert_exporter": "python",
   "pygments_lexer": "ipython3",
   "version": "3.10.2"
  }
 },
 "nbformat": 4,
 "nbformat_minor": 2
}
