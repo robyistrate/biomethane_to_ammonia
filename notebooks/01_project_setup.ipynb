{
 "cells": [
  {
   "attachments": {},
   "cell_type": "markdown",
   "metadata": {},
   "source": [
    "# Biomethane-to-Ammonia - Project setup\n",
    "\n",
    "This notebook creates a new Brightway2 project, imports the biosphere and ecoinvent databases, creates prospective databases using the premise package, and add a modified IPCC 2021 method that accounts for negative CO2 emissions"
   ]
  },
  {
   "cell_type": "code",
   "execution_count": 1,
   "metadata": {},
   "outputs": [],
   "source": [
    "import project_path\n",
    "import brightway2 as bw\n",
    "from bw2io import ExcelLCIAImporter\n",
    "from premise_gwp import add_premise_gwp"
   ]
  },
  {
   "attachments": {},
   "cell_type": "markdown",
   "metadata": {},
   "source": [
    "### Create new project"
   ]
  },
  {
   "cell_type": "code",
   "execution_count": 2,
   "metadata": {},
   "outputs": [],
   "source": [
    "PROJECT_NAME = 'iri_work' # insert your project name here\n",
    "bw.projects.set_current(PROJECT_NAME)"
   ]
  },
  {
   "attachments": {},
   "cell_type": "markdown",
   "metadata": {},
   "source": [
    "### Import databases"
   ]
  },
  {
   "attachments": {},
   "cell_type": "markdown",
   "metadata": {},
   "source": [
    "Import biosphere database"
   ]
  },
  {
   "cell_type": "code",
   "execution_count": 3,
   "metadata": {},
   "outputs": [
    {
     "name": "stdout",
     "output_type": "stream",
     "text": [
      "Biosphere database already installed\n"
     ]
    }
   ],
   "source": [
    "if 'biosphere3' in bw.databases:\n",
    "    print('Biosphere database already installed')\n",
    "else:\n",
    "    bw.bw2setup()"
   ]
  },
  {
   "attachments": {},
   "cell_type": "markdown",
   "metadata": {},
   "source": [
    "Import ecoinvent database\n",
    "\n",
    "*Note that the results presented in the scientific article were produced with ecoinvent 3.8 cut-off system model. Moreover, ecoinvent 3.8 or lower is required to create prospetive databases with premise*"
   ]
  },
  {
   "cell_type": "code",
   "execution_count": 4,
   "metadata": {},
   "outputs": [
    {
     "name": "stdout",
     "output_type": "stream",
     "text": [
      "Ecoinvent database already installed\n"
     ]
    }
   ],
   "source": [
    "EI_DIR = r'D:\\ecoinvent\\v3.9.1\\datasets' # <- insert the path to ecoinvent datasets here\n",
    "EI_NAME = 'ecoinvent 3.9.1 cutoff'\n",
    "\n",
    "if EI_NAME in bw.databases:\n",
    "    print('Ecoinvent database already installed')\n",
    "else:\n",
    "    ei38 = bw.SingleOutputEcospold2Importer(EI_DIR, EI_NAME)\n",
    "    ei38.apply_strategies()\n",
    "    ei38.statistics()\n",
    "    ei38.write_database()"
   ]
  },
  {
   "attachments": {},
   "cell_type": "markdown",
   "metadata": {},
   "source": [
    "Import modified IPCC 2021 method based on *premise_gwp* \n",
    "\n",
    "see: https://github.com/polca/premise_gwp"
   ]
  },
  {
   "cell_type": "code",
   "execution_count": 5,
   "metadata": {},
   "outputs": [
    {
     "name": "stdout",
     "output_type": "stream",
     "text": [
      "Adding ('IPCC 2021', 'climate change', 'GWP 20a, incl. H and bio CO2')\n",
      "Applying strategy: csv_restore_tuples\n",
      "Applying strategy: csv_numerize\n",
      "Applying strategy: csv_drop_unknown\n",
      "Applying strategy: set_biosphere_type\n",
      "Applying strategy: drop_unspecified_subcategories\n",
      "Applying strategy: link_iterable_by_fields\n",
      "Applying strategy: drop_falsey_uncertainty_fields_but_keep_zeros\n",
      "Applying strategy: convert_uncertainty_types_to_integers\n",
      "Applied 8 strategies in 0.13 seconds\n",
      "Wrote 1 LCIA methods with 255 characterization factors\n",
      "Adding ('IPCC 2021', 'climate change', 'GWP 100a, incl. H')\n",
      "Applying strategy: csv_restore_tuples\n",
      "Applying strategy: csv_numerize\n",
      "Applying strategy: csv_drop_unknown\n",
      "Applying strategy: set_biosphere_type\n",
      "Applying strategy: drop_unspecified_subcategories\n",
      "Applying strategy: link_iterable_by_fields\n",
      "Applying strategy: drop_falsey_uncertainty_fields_but_keep_zeros\n",
      "Applying strategy: convert_uncertainty_types_to_integers\n",
      "Applied 8 strategies in 0.17 seconds\n",
      "Wrote 1 LCIA methods with 248 characterization factors\n",
      "Adding ('IPCC 2021', 'climate change', 'GWP 100a, incl. H and bio CO2')\n",
      "Applying strategy: csv_restore_tuples\n",
      "Applying strategy: csv_numerize\n",
      "Applying strategy: csv_drop_unknown\n",
      "Applying strategy: set_biosphere_type\n",
      "Applying strategy: drop_unspecified_subcategories\n",
      "Applying strategy: link_iterable_by_fields\n",
      "Applying strategy: drop_falsey_uncertainty_fields_but_keep_zeros\n",
      "Applying strategy: convert_uncertainty_types_to_integers\n",
      "Applied 8 strategies in 0.11 seconds\n",
      "Wrote 1 LCIA methods with 255 characterization factors\n",
      "Adding ('IPCC 2021', 'climate change', 'GWP 20a, incl. H')\n",
      "Applying strategy: csv_restore_tuples\n",
      "Applying strategy: csv_numerize\n",
      "Applying strategy: csv_drop_unknown\n",
      "Applying strategy: set_biosphere_type\n",
      "Applying strategy: drop_unspecified_subcategories\n",
      "Applying strategy: link_iterable_by_fields\n",
      "Applying strategy: drop_falsey_uncertainty_fields_but_keep_zeros\n",
      "Applying strategy: convert_uncertainty_types_to_integers\n",
      "Applied 8 strategies in 0.15 seconds\n",
      "Wrote 1 LCIA methods with 248 characterization factors\n"
     ]
    }
   ],
   "source": [
    "add_premise_gwp()"
   ]
  },
  {
   "cell_type": "code",
   "execution_count": null,
   "metadata": {},
   "outputs": [],
   "source": []
  }
 ],
 "metadata": {
  "kernelspec": {
   "display_name": "Python 3.10.2 ('iri')",
   "language": "python",
   "name": "python3"
  },
  "language_info": {
   "codemirror_mode": {
    "name": "ipython",
    "version": 3
   },
   "file_extension": ".py",
   "mimetype": "text/x-python",
   "name": "python",
   "nbconvert_exporter": "python",
   "pygments_lexer": "ipython3",
   "version": "3.10.2"
  },
  "orig_nbformat": 4,
  "vscode": {
   "interpreter": {
    "hash": "394e99dae1b9983f376945e80450b385abffeb733a324985773e8d0fe4d49f32"
   }
  }
 },
 "nbformat": 4,
 "nbformat_minor": 2
}
