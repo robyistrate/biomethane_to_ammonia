{
 "cells": [
  {
   "attachments": {},
   "cell_type": "markdown",
   "id": "36fb8a68",
   "metadata": {},
   "source": [
    "# Biomethane-to-Ammonia - Import LCI\n",
    "\n",
    "This notebook imports the life cycle inventories (LCIs) and creates regionalized inventories for the European Union"
   ]
  },
  {
   "cell_type": "code",
   "execution_count": 1,
   "id": "3db7c7e7-cf68-4ca6-bcb7-411b111ca5e6",
   "metadata": {},
   "outputs": [],
   "source": [
    "%run _imports.ipynb"
   ]
  },
  {
   "attachments": {},
   "cell_type": "markdown",
   "id": "ee6779af-56c3-4532-9a89-e3775e2c76fd",
   "metadata": {},
   "source": [
    "### Import inventories"
   ]
  },
  {
   "cell_type": "code",
   "execution_count": 2,
   "id": "0e050e27-c5a5-4d35-af6a-69a5046e68a0",
   "metadata": {},
   "outputs": [
    {
     "name": "stdout",
     "output_type": "stream",
     "text": [
      "Getting activity data\n"
     ]
    },
    {
     "name": "stderr",
     "output_type": "stream",
     "text": [
      "100%|██████████| 21238/21238 [00:00<00:00, 206124.19it/s]\n"
     ]
    },
    {
     "name": "stdout",
     "output_type": "stream",
     "text": [
      "Adding exchange data to activities\n"
     ]
    },
    {
     "name": "stderr",
     "output_type": "stream",
     "text": [
      "100%|██████████| 674593/674593 [01:26<00:00, 7839.42it/s] \n"
     ]
    },
    {
     "name": "stdout",
     "output_type": "stream",
     "text": [
      "Filling out exchange data\n"
     ]
    },
    {
     "name": "stderr",
     "output_type": "stream",
     "text": [
      "100%|██████████| 21238/21238 [00:04<00:00, 4751.63it/s] \n"
     ]
    }
   ],
   "source": [
    "# Import ecoinvent database into wurst format (i.e., list of dictionary, each dict being a dataset)\n",
    "try:\n",
    "  len(ei_db)\n",
    "except NameError:\n",
    "  ei_db = wurst.extract_brightway2_databases(ECOINVENT_DB)\n",
    "\n",
    "# Import the biosphere database as a list of dictionary\n",
    "biosphere_db = [ef.as_dict() for ef in bw.Database('biosphere3')]"
   ]
  },
  {
   "cell_type": "markdown",
   "id": "fd01e6c9",
   "metadata": {},
   "source": [
    "**! IMPORTANT !**\n",
    "\n",
    "Some of the LCI datasets in the inventories file are partially based on data from the ecoinvent LCI database. To comply with licensing requirements, \n",
    "the file shared in this repository does not include these data points. Instead, a \"PLACEHOLDER\" string has been included. This will cause an error when trying to\n",
    "import the LCIs.\n",
    "\n",
    "If you hold a valid ecoinvent license, please contact me directly to receive the full input files containing all ecoinvent data points."
   ]
  },
  {
   "cell_type": "code",
   "execution_count": 3,
   "id": "fa52e88e-3adb-4ec0-9db2-6775a9cae695",
   "metadata": {},
   "outputs": [
    {
     "name": "stdout",
     "output_type": "stream",
     "text": [
      "Extracted 5 worksheets in 0.23 seconds\n",
      "Applying strategy: csv_restore_tuples\n",
      "Applying strategy: csv_restore_booleans\n",
      "Applying strategy: csv_numerize\n",
      "Applying strategy: csv_drop_unknown\n",
      "Applying strategy: csv_add_missing_exchanges_section\n",
      "Applying strategy: normalize_units\n",
      "Applying strategy: normalize_biosphere_categories\n",
      "Applying strategy: normalize_biosphere_names\n",
      "Applying strategy: strip_biosphere_exc_locations\n",
      "Applying strategy: set_code_by_activity_hash\n",
      "Applying strategy: link_iterable_by_fields\n",
      "Applying strategy: assign_only_product_as_production\n",
      "Applying strategy: link_technosphere_by_activity_hash\n",
      "Applying strategy: drop_falsey_uncertainty_fields_but_keep_zeros\n",
      "Applying strategy: convert_uncertainty_types_to_integers\n",
      "Applying strategy: convert_activity_parameters_to_list\n",
      "Applied 16 strategies in 5.72 seconds\n",
      "Applying strategy: link_iterable_by_fields\n",
      "Applying strategy: link_iterable_by_fields\n"
     ]
    }
   ],
   "source": [
    "LCI_PATH = Path(DATA_DIR / \"inventories.xlsx\")\n",
    "\n",
    "# Import inventories that are already in BW2 format (i.e., biogas production, biomethane market, and green ammonia)\n",
    "lci_import = bw.ExcelImporter(LCI_PATH)\n",
    "lci_import.apply_strategies()\n",
    "lci_import.match_database(ECOINVENT_DB, fields=('name', 'reference product', 'unit', 'location'))\n",
    "lci_import.match_database(\"biosphere3\", fields=('name', 'unit', 'categories'))"
   ]
  },
  {
   "cell_type": "code",
   "execution_count": 4,
   "id": "15140eb2",
   "metadata": {},
   "outputs": [],
   "source": [
    "lci_db = []\n",
    "lci_db = lci_import.data\n",
    "\n",
    "# Create additional inventories from dataframes\n",
    "# Excel sheets with inventories in dataframe format\n",
    "LCI_SHEETS = ['LCI_Upgrading',\n",
    "              'LCI_Heat',\n",
    "              'LCI_Ammonia_NG&Biomethane']\n",
    "for sheet in LCI_SHEETS:\n",
    "    inventories_df = pd.read_excel(LCI_PATH, sheet_name=sheet, skiprows=1).fillna(0)\n",
    "    lci_converted = inventory_imports.create_dataset_from_df(inventories_df)\n",
    "    lci_db += lci_converted"
   ]
  },
  {
   "cell_type": "code",
   "execution_count": 5,
   "id": "75027ad9",
   "metadata": {},
   "outputs": [],
   "source": [
    "# The ExcelImporter requires that a 'reference product' is defined for every technosphere exchange.\n",
    "# However, the ecoinvent database imported in BW2 as well as wurst use 'product' for technosphere exchanges.\n",
    "# Replace 'reference product' by 'product' in technosphere exchanges.\n",
    "inventory_imports.correct_product_in_exchanges(lci_db)"
   ]
  },
  {
   "cell_type": "code",
   "execution_count": 6,
   "id": "e02942da",
   "metadata": {},
   "outputs": [],
   "source": [
    "# Link technosphere and biosphere exchanges by code\n",
    "inventory_imports.link_exchanges_by_code(lci_db, ei_db, biosphere_db)"
   ]
  },
  {
   "attachments": {},
   "cell_type": "markdown",
   "id": "11145612",
   "metadata": {},
   "source": [
    "### Create regionalized inventories for EU"
   ]
  },
  {
   "cell_type": "code",
   "execution_count": 7,
   "id": "dda513c2",
   "metadata": {},
   "outputs": [
    {
     "data": {
      "text/html": [
       "<div>\n",
       "<style scoped>\n",
       "    .dataframe tbody tr th:only-of-type {\n",
       "        vertical-align: middle;\n",
       "    }\n",
       "\n",
       "    .dataframe tbody tr th {\n",
       "        vertical-align: top;\n",
       "    }\n",
       "\n",
       "    .dataframe thead th {\n",
       "        text-align: right;\n",
       "    }\n",
       "</style>\n",
       "<table border=\"1\" class=\"dataframe\">\n",
       "  <thead>\n",
       "    <tr style=\"text-align: right;\">\n",
       "      <th>Feedstock</th>\n",
       "      <th>Animal manure</th>\n",
       "      <th>Agricultural residues</th>\n",
       "      <th>Sequential crops</th>\n",
       "      <th>Industrial wastewater</th>\n",
       "      <th>Biowaste</th>\n",
       "      <th>Sewage sludge</th>\n",
       "    </tr>\n",
       "  </thead>\n",
       "  <tbody>\n",
       "    <tr>\n",
       "      <th>Total</th>\n",
       "      <td>0.344</td>\n",
       "      <td>0.258</td>\n",
       "      <td>0.226</td>\n",
       "      <td>0.097</td>\n",
       "      <td>0.054</td>\n",
       "      <td>0.022</td>\n",
       "    </tr>\n",
       "    <tr>\n",
       "      <th>DE</th>\n",
       "      <td>0.312</td>\n",
       "      <td>0.278</td>\n",
       "      <td>0.181</td>\n",
       "      <td>0.164</td>\n",
       "      <td>0.032</td>\n",
       "      <td>0.033</td>\n",
       "    </tr>\n",
       "    <tr>\n",
       "      <th>FR</th>\n",
       "      <td>0.339</td>\n",
       "      <td>0.271</td>\n",
       "      <td>0.251</td>\n",
       "      <td>0.111</td>\n",
       "      <td>0.009</td>\n",
       "      <td>0.019</td>\n",
       "    </tr>\n",
       "    <tr>\n",
       "      <th>IT</th>\n",
       "      <td>0.192</td>\n",
       "      <td>0.095</td>\n",
       "      <td>0.585</td>\n",
       "      <td>0.046</td>\n",
       "      <td>0.062</td>\n",
       "      <td>0.020</td>\n",
       "    </tr>\n",
       "    <tr>\n",
       "      <th>ES</th>\n",
       "      <td>0.353</td>\n",
       "      <td>0.236</td>\n",
       "      <td>0.235</td>\n",
       "      <td>0.099</td>\n",
       "      <td>0.042</td>\n",
       "      <td>0.035</td>\n",
       "    </tr>\n",
       "  </tbody>\n",
       "</table>\n",
       "</div>"
      ],
      "text/plain": [
       "Feedstock  Animal manure  Agricultural residues  Sequential crops  \\\n",
       "Total              0.344                  0.258             0.226   \n",
       "DE                 0.312                  0.278             0.181   \n",
       "FR                 0.339                  0.271             0.251   \n",
       "IT                 0.192                  0.095             0.585   \n",
       "ES                 0.353                  0.236             0.235   \n",
       "\n",
       "Feedstock  Industrial wastewater  Biowaste  Sewage sludge  \n",
       "Total                      0.097     0.054          0.022  \n",
       "DE                         0.164     0.032          0.033  \n",
       "FR                         0.111     0.009          0.019  \n",
       "IT                         0.046     0.062          0.020  \n",
       "ES                         0.099     0.042          0.035  "
      ]
     },
     "execution_count": 7,
     "metadata": {},
     "output_type": "execute_result"
    }
   ],
   "source": [
    "# Import biomethane data by country\n",
    "biomethane_potential = pd.read_excel(Path(DATA_DIR / \"sustainable_biomethane_potential_Europe.xlsx\"),\n",
    "                                     sheet_name='Biomethane Potential',\n",
    "                                     usecols='A:AE',\n",
    "                                     index_col=[0])\n",
    "\n",
    "# Country-specific market for biogas\n",
    "biogas_market_by_country = biomethane_potential.loc['Sustainable biomethane share by feedstock in 2030'].reset_index(\n",
    "                                                    ).drop(['Parameter', 'Unit'], axis=1).set_index(['Feedstock']).T\n",
    "biogas_market_by_country.head()"
   ]
  },
  {
   "cell_type": "code",
   "execution_count": 8,
   "id": "7a9226e8",
   "metadata": {},
   "outputs": [
    {
     "data": {
      "text/plain": [
       "['DE', 'FR', 'IT', 'ES']"
      ]
     },
     "execution_count": 8,
     "metadata": {},
     "output_type": "execute_result"
    }
   ],
   "source": [
    "LIST_COUNTRIES = [c for c in biogas_market_by_country.index if c != 'Total']\n",
    "LIST_COUNTRIES[:4]"
   ]
  },
  {
   "cell_type": "code",
   "execution_count": 9,
   "id": "1f3e9a59",
   "metadata": {},
   "outputs": [],
   "source": [
    "ds_to_regionalize = [\n",
    "                     ('anaerobic digestion of animal manure, with biogenic carbon uptake', 'biogas', 'RER'),\n",
    "                     ('anaerobic digestion of agricultural residues, with biogenic carbon uptake', 'biogas', 'RER'),\n",
    "                     ('anaerobic digestion of sequential crop, with biogenic carbon uptake', 'biogas', 'RER'),\n",
    "                     ('market for biogas, sustainable feedstocks', 'biogas', 'RER'),\n",
    "\n",
    "                     ('biogas upgrading to biomethane, water scrubbing', 'biomethane, 24 bar', 'RER'),\n",
    "                     ('biogas upgrading to biomethane, water scrubbing w/ CCS', 'biomethane, 24 bar', 'RER'),\n",
    "                     ('biogas upgrading to biomethane, chemical scrubbing', 'biomethane, 24 bar', 'RER'),\n",
    "                     ('biogas upgrading to biomethane, chemical scrubbing w/ CCS', 'biomethane, 24 bar', 'RER'),\n",
    "                     ('biogas upgrading to biomethane, membrane', 'biomethane, 24 bar', 'RER'),\n",
    "                     ('biogas upgrading to biomethane, membrane w/ CCS', 'biomethane, 24 bar', 'RER'),\n",
    "                     ('biogas upgrading to biomethane, pressure swing adsorption', 'biomethane, 24 bar', 'RER'),\n",
    "                     ('biogas upgrading to biomethane, pressure swing adsorption w/ CCS', 'biomethane, 24 bar', 'RER'),\n",
    "                     ('market for biomethane, 24 bar', 'biomethane, 24 bar', 'RER'),\n",
    "                     ('market for biomethane, 24 bar w/ CCS', 'biomethane, 24 bar', 'RER'),\n",
    "\n",
    "                     ('carbon dioxide capture, chemical absorption, with transport and storage, 200 km pipeline sotage 1000m',\n",
    "                      'carbon dioxide capture, chemical absorption, with transport and storage, 200 km pipeline sotage 1000m', 'RER'),\n",
    "                     \n",
    "                     ('heat production, at industrial furnace >100kW, natural gas, heating', 'heat, district or industrial', 'RER'),\n",
    "                     ('heat production, at industrial furnace >100kW, natural gas, heating w/ CCS', 'heat, district or industrial', 'RER'),\n",
    "                     ('heat production, at industrial furnace >100kW, biomethane', 'heat, district or industrial', 'RER'),  \n",
    "                     ('heat production, at industrial furnace >100kW, biomethane, heating w/ CCS', 'heat, district or industrial', 'RER'),\n",
    "                     ('heat production, at industrial furnace >100kW, biomethane w/ CCS', 'heat, district or industrial', 'RER'),\n",
    "                     ('heat production, at industrial furnace >100kW, biomethane w/ CCS, heating w/ CCS', 'heat, district or industrial', 'RER'),\n",
    "\n",
    "                     ('ammonia production, liquid, fossil ammonia from natural gas', 'ammonia, anhydrous, liquid', 'RER'),\n",
    "                     ('ammonia production, liquid, fossil ammonia from natural gas, syngas w/ CCS', 'ammonia, anhydrous, liquid', 'RER'),\n",
    "                     ('ammonia production, liquid, fossil ammonia from natural gas, syngas w/ CCS, heating w/ CCS', 'ammonia, anhydrous, liquid', 'RER'),\n",
    "\n",
    "                     ('ammonia production, liquid, bio-ammonia from biomethane', 'ammonia, anhydrous, liquid', 'RER'),\n",
    "                     ('ammonia production, liquid, bio-ammonia from biomethane, syngas w/ CCS', 'ammonia, anhydrous, liquid', 'RER'),\n",
    "                     ('ammonia production, liquid, bio-ammonia from biomethane, syngas w/ CCS, heating w/ CCS', 'ammonia, anhydrous, liquid', 'RER'),\n",
    "                     ('ammonia production, liquid, bio-ammonia from biomethane w/ CCS', 'ammonia, anhydrous, liquid', 'RER'),\n",
    "                     ('ammonia production, liquid, bio-ammonia from biomethane w/ CCS, syngas w/ CCS', 'ammonia, anhydrous, liquid', 'RER'),\n",
    "                     ('ammonia production, liquid, bio-ammonia from biomethane w/ CCS, syngas w/ CCS, heating w/ CCS', 'ammonia, anhydrous, liquid', 'RER')\n",
    "                    ]"
   ]
  },
  {
   "cell_type": "code",
   "execution_count": 10,
   "id": "cd951984",
   "metadata": {},
   "outputs": [],
   "source": [
    "lci_db_regional = inventory_imports.regionalize_inventories(ds_to_regionalize,\n",
    "                                                            LIST_COUNTRIES,\n",
    "                                                            ei_db + lci_db,\n",
    "                                                            lci_db[0]['database'])"
   ]
  },
  {
   "cell_type": "code",
   "execution_count": 11,
   "id": "6ea8a342",
   "metadata": {},
   "outputs": [],
   "source": [
    "# Update country-specific biogas markets\n",
    "map_feedstock = {\n",
    "        'treatment of biowaste by anaerobic digestion, cut-off with biogenic carbon uptake':              'Biowaste',\n",
    "        'treatment of industrial wastewater by anaerobic digestion, cut-off with biogenic carbon uptake': 'Industrial wastewater',\n",
    "        'treatment of sewage sludge by anaerobic digestion, cut-off with biogenic carbon uptake':         'Sewage sludge',\n",
    "        'anaerobic digestion of animal manure, with biogenic carbon uptake':                              'Animal manure',\n",
    "        'anaerobic digestion of agricultural residues, with biogenic carbon uptake':                      'Agricultural residues',\n",
    "        'anaerobic digestion of sequential crop, with biogenic carbon uptake':                            'Sequential crops'\n",
    "    }\n",
    "\n",
    "technosphere = lambda x: x[\"type\"] == \"technosphere\"\n",
    "for ds in filter(lambda ds: ds[\"name\"] == 'market for biogas, sustainable feedstocks', lci_db_regional):\n",
    "    for exc in filter(technosphere, ds[\"exchanges\"]):\n",
    "        biogas_share = biogas_market_by_country.loc[ds['location']][map_feedstock[exc['name']]]\n",
    "        exc.update({'amount': biogas_share})"
   ]
  },
  {
   "attachments": {},
   "cell_type": "markdown",
   "id": "44c04fdd-055f-443b-8237-a61732f8e09b",
   "metadata": {},
   "source": [
    "### Write database"
   ]
  },
  {
   "cell_type": "code",
   "execution_count": 14,
   "id": "88990fe9-5f48-4b76-9192-751061d38937",
   "metadata": {
    "tags": []
   },
   "outputs": [
    {
     "name": "stdout",
     "output_type": "stream",
     "text": [
      "855 datasets\n",
      "14133 exchanges\n",
      "0 unlinked exchanges\n",
      "  \n"
     ]
    },
    {
     "name": "stderr",
     "output_type": "stream",
     "text": [
      "Writing activities to SQLite3 database:\n",
      "0% [##############################] 100% | ETA: 00:00:00\n",
      "Total time elapsed: 00:00:01\n"
     ]
    },
    {
     "name": "stdout",
     "output_type": "stream",
     "text": [
      "Title: Writing activities to SQLite3 database:\n",
      "  Started: 01/01/2024 21:43:36\n",
      "  Finished: 01/01/2024 21:43:38\n",
      "  Total time elapsed: 00:00:01\n",
      "  CPU %: 99.10\n",
      "  Memory %: 34.97\n",
      "Created database: biomethane-to-ammonia\n"
     ]
    }
   ],
   "source": [
    "LCI_DB_NAME = 'biomethane-to-ammonia'\n",
    "if LCI_DB_NAME in bw.databases:\n",
    "    del bw.databases[LCI_DB_NAME]\n",
    "wurst.write_brightway2_database(lci_db + lci_db_regional, LCI_DB_NAME)"
   ]
  },
  {
   "cell_type": "code",
   "execution_count": null,
   "id": "17d1c9ce",
   "metadata": {},
   "outputs": [],
   "source": []
  }
 ],
 "metadata": {
  "kernelspec": {
   "display_name": "Python 3.10.2 ('iri')",
   "language": "python",
   "name": "python3"
  },
  "language_info": {
   "codemirror_mode": {
    "name": "ipython",
    "version": 3
   },
   "file_extension": ".py",
   "mimetype": "text/x-python",
   "name": "python",
   "nbconvert_exporter": "python",
   "pygments_lexer": "ipython3",
   "version": "3.11.0"
  },
  "toc-autonumbering": true,
  "vscode": {
   "interpreter": {
    "hash": "394e99dae1b9983f376945e80450b385abffeb733a324985773e8d0fe4d49f32"
   }
  }
 },
 "nbformat": 4,
 "nbformat_minor": 5
}
