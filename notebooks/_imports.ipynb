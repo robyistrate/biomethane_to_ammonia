{
 "cells": [
  {
   "cell_type": "code",
   "execution_count": 3,
   "metadata": {},
   "outputs": [],
   "source": [
    "import project_path\n",
    "\n",
    "import pandas as pd\n",
    "import numpy as np\n",
    "from pathlib import Path\n",
    "import datetime\n",
    "\n",
    "import brightway2 as bw\n",
    "import wurst\n",
    "\n",
    "import matplotlib.pyplot as plt\n",
    "import matplotlib.ticker as ticker\n",
    "from matplotlib.lines import Line2D\n",
    "from matplotlib.patches import Patch\n",
    "import matplotlib.cm as cm\n",
    "import geopandas as gpd\n",
    "from mpl_toolkits.axes_grid1.inset_locator import inset_axes\n",
    "import seaborn as sns\n",
    "\n",
    "from src import inventory_imports\n",
    "from src import results_analysis\n",
    "\n",
    "pd.set_option('display.float_format', lambda x: '%.3f' % x)"
   ]
  },
  {
   "cell_type": "code",
   "execution_count": 8,
   "metadata": {},
   "outputs": [],
   "source": [
    "# To be changed accordingly:\n",
    "BW_PROJECT = 'iri_work'                          # name of your project\n",
    "bw.projects.set_current(BW_PROJECT)              # set project\n",
    "\n",
    "ECOINVENT_DB = 'ecoinvent 3.9.1 cutoff'          # name of ecoinvent database in your project\n",
    "LCI_DB = 'biomethane-to-ammonia'                 # name of LCIs database\n",
    "\n",
    "DATA_DIR = Path(\"../data\")\n",
    "FIG_EXPORT_DIR = Path(\"../reports/figures\")\n"
   ]
  },
  {
   "cell_type": "code",
   "execution_count": 3,
   "metadata": {},
   "outputs": [],
   "source": [
    "LCIA_METHODS = {\n",
    "                'Climate change, GWP 100a':            ('IPCC 2021', 'climate change', 'GWP 100a, incl. H and bio CO2'),\n",
    "                'Acidification':                       ('EF v3.1', 'acidification', 'accumulated exceedance (AE)'),\n",
    "                'Eutrophication, freshwater':          ('EF v3.1', 'eutrophication: freshwater', 'fraction of nutrients reaching freshwater end compartment (P)'),\n",
    "                'Eutrophication, marine':              ('EF v3.1', 'eutrophication: marine', 'fraction of nutrients reaching marine end compartment (N)'),\n",
    "                'Eutrophication, terrestrial':         ('EF v3.1', 'eutrophication: terrestrial', 'accumulated exceedance (AE)'),\n",
    "                'Photochemical oxidant formation':     ('EF v3.1', 'photochemical oxidant formation: human health', 'tropospheric ozone concentration increase'),\n",
    "                'Particulate matter formation':        ('EF v3.1', 'particulate matter formation', 'impact on human health'),\n",
    "                'Ozone depletion':                     ('EF v3.1', 'ozone depletion', 'ozone depletion potential (ODP)'),\n",
    "                'Ecotoxicity, freshwater':             ('EF v3.1', 'ecotoxicity: freshwater', 'comparative toxic unit for ecosystems (CTUe)'),\n",
    "                'Human toxicity, carcinogenic':        ('EF v3.1', 'human toxicity: carcinogenic', 'comparative toxic unit for human (CTUh)'),\n",
    "                'Human toxicity, non-carcinogenic':    ('EF v3.1', 'human toxicity: non-carcinogenic', 'comparative toxic unit for human (CTUh)'),\n",
    "                'Ionising radiation':                  ('EF v3.1', 'ionising radiation: human health', 'human exposure efficiency relative to u235'), \n",
    "                'Energy resources, non-renewable':     ('EF v3.1', 'energy resources: non-renewable', 'abiotic depletion potential (ADP): fossil fuels'),\n",
    "                'Material resources, minerals/metals': ('EF v3.1', 'material resources: metals/minerals', 'abiotic depletion potential (ADP): elements (ultimate reserves)'),\n",
    "                'Land use':                            ('EF v3.1', 'land use', 'soil quality index'),\n",
    "                'Water use':                           ('EF v3.1', 'water use', 'user deprivation potential (deprivation-weighted water consumption)')\n",
    "               }\n",
    "\n",
    "IPCC_METHOD = {k: v for (k,v) in LCIA_METHODS.items() if 'Climate change' in k}"
   ]
  },
  {
   "cell_type": "code",
   "execution_count": 4,
   "metadata": {},
   "outputs": [],
   "source": [
    "INVENTORIES = {\n",
    "               'Natural gas':                                            ('ammonia production, liquid, fossil ammonia from natural gas', 'ammonia, anhydrous, liquid'),\n",
    "               'Natural gas + CCS Syngas':                               ('ammonia production, liquid, fossil ammonia from natural gas, syngas w/ CCS', 'ammonia, anhydrous, liquid'),\n",
    "               'Natural gas + CCS Syngas + CCS Heating':                 ('ammonia production, liquid, fossil ammonia from natural gas, syngas w/ CCS, heating w/ CCS', 'ammonia, anhydrous, liquid'),\n",
    "               'Green H2':                                               ('ammonia production, liquid, green ammonia from wind-based hydrogen', 'ammonia, anhydrous, liquid'),\n",
    "               'Biomethane':                                             ('ammonia production, liquid, bio-ammonia from biomethane', 'ammonia, anhydrous, liquid'),\n",
    "               'Biomethane + CCS Syngas':                                ('ammonia production, liquid, bio-ammonia from biomethane, syngas w/ CCS', 'ammonia, anhydrous, liquid'),\n",
    "               'Biomethane + CCS Syngas + CCS Heating':                  ('ammonia production, liquid, bio-ammonia from biomethane, syngas w/ CCS, heating w/ CCS', 'ammonia, anhydrous, liquid'),\n",
    "               'Biomethane + CCS Upgrading':                             ('ammonia production, liquid, bio-ammonia from biomethane w/ CCS', 'ammonia, anhydrous, liquid'),\n",
    "               'Biomethane + CCS Upgrading + CCS Syngas':                ('ammonia production, liquid, bio-ammonia from biomethane w/ CCS, syngas w/ CCS', 'ammonia, anhydrous, liquid'),\n",
    "               'Biomethane + CCS Upgrading + CCS Syngas + CCS Heating':  ('ammonia production, liquid, bio-ammonia from biomethane w/ CCS, syngas w/ CCS, heating w/ CCS', 'ammonia, anhydrous, liquid'),\n",
    "               }"
   ]
  },
  {
   "cell_type": "code",
   "execution_count": 1,
   "metadata": {},
   "outputs": [],
   "source": [
    "biomethane_fossil_match = {'Biomethane': 'Natural gas',\n",
    "                           'Biomethane + CCS Syngas': 'Natural gas + CCS Syngas',\n",
    "                           'Biomethane + CCS Syngas + CCS Heating': 'Natural gas + CCS Syngas + CCS Heating',\n",
    "                           'Biomethane + CCS Upgrading': 'Natural gas',\n",
    "                           'Biomethane + CCS Upgrading + CCS Syngas': 'Natural gas + CCS Syngas',\n",
    "                           'Biomethane + CCS Upgrading + CCS Syngas + CCS Heating': 'Natural gas + CCS Syngas + CCS Heating'\n",
    "                          }"
   ]
  },
  {
   "cell_type": "code",
   "execution_count": null,
   "metadata": {},
   "outputs": [],
   "source": []
  }
 ],
 "metadata": {
  "kernelspec": {
   "display_name": "iri",
   "language": "python",
   "name": "python3"
  },
  "language_info": {
   "codemirror_mode": {
    "name": "ipython",
    "version": 3
   },
   "file_extension": ".py",
   "mimetype": "text/x-python",
   "name": "python",
   "nbconvert_exporter": "python",
   "pygments_lexer": "ipython3",
   "version": "3.10.2"
  }
 },
 "nbformat": 4,
 "nbformat_minor": 2
}
