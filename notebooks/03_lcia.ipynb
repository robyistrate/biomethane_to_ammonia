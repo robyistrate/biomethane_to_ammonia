{
 "cells": [
  {
   "attachments": {},
   "cell_type": "markdown",
   "id": "e15c4aaa",
   "metadata": {},
   "source": [
    "# Biomethane-to-Ammonia - LCIA results\n",
    "\n",
    "This notebook performs the life cycle impact assessment (LCIA) calculations (and some extra calculations) and export the results"
   ]
  },
  {
   "cell_type": "code",
   "execution_count": 2,
   "id": "19c7a90d",
   "metadata": {},
   "outputs": [],
   "source": [
    "%run _imports.ipynb"
   ]
  },
  {
   "cell_type": "code",
   "execution_count": 3,
   "metadata": {},
   "outputs": [],
   "source": [
    "# Import some external data used in the calculations\n",
    "biomethane_potential = pd.read_excel(DATA_DIR / \"sustainable_biomethane_potential_europe.xlsx\", sheet_name=\"Biomethane Potential\", index_col=[0])\n",
    "ammonia_production = pd.read_excel(DATA_DIR / \"ammonia_production_europe.xlsx\", sheet_name='Data')"
   ]
  },
  {
   "attachments": {},
   "cell_type": "markdown",
   "id": "912e4fd9",
   "metadata": {},
   "source": [
    "## Carbon footprint of ammonia production"
   ]
  },
  {
   "attachments": {},
   "cell_type": "markdown",
   "id": "b6df4505",
   "metadata": {},
   "source": [
    "### Europe average carbon footprint & impact breakdown"
   ]
  },
  {
   "cell_type": "code",
   "execution_count": 4,
   "id": "487c856c-b7df-40fc-8dc8-7d3b4e31d305",
   "metadata": {},
   "outputs": [],
   "source": [
    "carbon_footprint_ammonia_RER = {}\n",
    "\n",
    "for inv in INVENTORIES:\n",
    "    activity = [a for a in bw.Database(LCI_DB) if a['name'] == INVENTORIES[inv][0] \n",
    "                                               and a['reference product'] == INVENTORIES[inv][1]\n",
    "                                               and a['location'] == 'RER'][0]\n",
    "    lca_results = results_analysis.lcia_system_contribution(activity, IPCC_METHOD, activity_amount=1)\n",
    "    for impact in lca_results:\n",
    "        if impact not in carbon_footprint_ammonia_RER:\n",
    "            carbon_footprint_ammonia_RER[impact] = {}\n",
    "        carbon_footprint_ammonia_RER[impact].update({inv: lca_results[impact]})\n",
    "\n",
    "carbon_footprint_ammonia_RER_df = pd.DataFrame(carbon_footprint_ammonia_RER['Climate change, GWP 100a'])"
   ]
  },
  {
   "cell_type": "code",
   "execution_count": null,
   "id": "d8f604c1",
   "metadata": {},
   "outputs": [],
   "source": [
    "# Save results to csv\n",
    "#carbon_footprint_ammonia_RER_df.to_csv(DATA_DIR / \"results\" / f\"Fig 2 Carbon footprint ammonia production Europe average_{datetime.datetime.today().strftime('%d-%m-%Y')}.csv\")"
   ]
  },
  {
   "cell_type": "markdown",
   "metadata": {},
   "source": [
    "**Carbon footprint with emissions from ammonia usage as fertilizer or shipping fuel**"
   ]
  },
  {
   "cell_type": "code",
   "execution_count": 65,
   "metadata": {},
   "outputs": [],
   "source": [
    "# N2O emission factors for mineral fertilizers based on IPCC Chapter 11\n",
    "# 1.6% of nitrogen in mineral fertilizer for wet climates\n",
    "# 0.5% of nitrogen in mineral fertilizer for dry climates\n",
    "# 0.4% of nitrogen in ammonia fuel in ships\n",
    "ammonia_nitrogen_content = 0.82 # anyhdrous ammonia is 82% nitrogen\n",
    "cf_n2o = 273.0\n",
    "\n",
    "n2o_ef_wet = 0.016\n",
    "n2o_ef_dry = 0.005\n",
    "n2o_emissions_wet = 1 * ammonia_nitrogen_content * n2o_ef_wet * 44/28\n",
    "n2o_emissions_dry = 1 * ammonia_nitrogen_content * n2o_ef_dry * 44/28\n",
    "fertilizer_use_impact_wet = n2o_emissions_wet * cf_n2o\n",
    "fertilizer_use_impact_dry = n2o_emissions_dry * cf_n2o\n",
    "\n",
    "n2o_fuel = 0.004\n",
    "n2o_emissions_fuel = 1 * ammonia_nitrogen_content * n2o_fuel * 44/28\n",
    "fuel_use_impact = n2o_emissions_fuel * cf_n2o\n",
    "\n",
    "carbon_footprint_with_use = {}\n",
    "carbon_footprint_with_use[\"Fertilizer low\"] = {}\n",
    "carbon_footprint_with_use[\"Fertilizer high\"] = {}\n",
    "carbon_footprint_with_use[\"Fuel\"] = {}\n",
    "\n",
    "for scenario in carbon_footprint_ammonia_RER_df.columns:\n",
    "    carbon_footprint_with_use[\"Fertilizer low\"][scenario] = carbon_footprint_ammonia_RER_df.loc[\"Total\"][scenario] + fertilizer_use_impact_dry\n",
    "    carbon_footprint_with_use[\"Fertilizer high\"][scenario] = carbon_footprint_ammonia_RER_df.loc[\"Total\"][scenario] + fertilizer_use_impact_wet\n",
    "    carbon_footprint_with_use[\"Fuel\"][scenario] = carbon_footprint_ammonia_RER_df.loc[\"Total\"][scenario] + fuel_use_impact\n",
    "\n",
    "carbon_footprint_with_use = pd.DataFrame(carbon_footprint_with_use)"
   ]
  },
  {
   "cell_type": "code",
   "execution_count": 66,
   "metadata": {},
   "outputs": [],
   "source": [
    "# Save results to csv\n",
    "#carbon_footprint_with_use.to_csv(DATA_DIR / \"results\" / f\"Fig S2 Carbon footprint ammonia production Europe average with usage_{datetime.datetime.today().strftime('%d-%m-%Y')}.csv\")"
   ]
  },
  {
   "attachments": {},
   "cell_type": "markdown",
   "id": "1c8cde46",
   "metadata": {},
   "source": [
    "### Country-specific carbon footprint / total impact"
   ]
  },
  {
   "cell_type": "code",
   "execution_count": 5,
   "id": "e23c91c0",
   "metadata": {},
   "outputs": [
    {
     "data": {
      "text/plain": [
       "['DE', 'FR', 'IT', 'ES', 'PL']"
      ]
     },
     "execution_count": 5,
     "metadata": {},
     "output_type": "execute_result"
    }
   ],
   "source": [
    "# List of countries\n",
    "LIST_COUNTRIES = [c for c in biomethane_potential.T.index if c not in ['Unit', 'Feedstock', 'Total']]\n",
    "LIST_COUNTRIES[:5]"
   ]
  },
  {
   "cell_type": "code",
   "execution_count": 6,
   "id": "5e75e229",
   "metadata": {},
   "outputs": [],
   "source": [
    "carbon_footprint_ammonia_country = {}\n",
    "\n",
    "for inv in {k: v for (k,v) in INVENTORIES.items() if k != 'Green H2'}:\n",
    "    carbon_footprint_ammonia_country[inv] = {}\n",
    "    for country in LIST_COUNTRIES:\n",
    "        activity = [a for a in bw.Database(LCI_DB) if a['name'] == INVENTORIES[inv][0] \n",
    "                                                      and a['reference product'] == INVENTORIES[inv][1]\n",
    "                                                      and a['location'] == country][0]\n",
    "        impacts_loc = results_analysis.multi_lcia(activity, IPCC_METHOD, amount=1)\n",
    "        carbon_footprint_ammonia_country[inv].update({country: impacts_loc['Climate change, GWP 100a']})"
   ]
  },
  {
   "cell_type": "code",
   "execution_count": 7,
   "id": "ae7f5386",
   "metadata": {},
   "outputs": [],
   "source": [
    "carbon_footprint_ammonia_country_df = pd.DataFrame(carbon_footprint_ammonia_country)\n",
    "\n",
    "ammonia_country_only_biomethane = carbon_footprint_ammonia_country_df[['Biomethane',\n",
    "                                                                        'Biomethane + CCS Syngas',\n",
    "                                                                        'Biomethane + CCS Syngas + CCS Heating',\n",
    "                                                                        'Biomethane + CCS Upgrading',\n",
    "                                                                        'Biomethane + CCS Upgrading + CCS Syngas', \n",
    "                                                                        'Biomethane + CCS Upgrading + CCS Syngas + CCS Heating']]"
   ]
  },
  {
   "cell_type": "code",
   "execution_count": null,
   "id": "cc15ba28",
   "metadata": {},
   "outputs": [],
   "source": [
    "# Save results to csv\n",
    "#ammonia_country_only_biomethane.to_csv(DATA_DIR / \"results\" / f\"Fig 3 Country-specific carbon footprint ammonia production_{datetime.datetime.today().strftime('%d-%m-%Y')}.csv\")"
   ]
  },
  {
   "attachments": {},
   "cell_type": "markdown",
   "id": "a3ad924b",
   "metadata": {},
   "source": [
    "## Biomethane and ammonia production potentials in Europe"
   ]
  },
  {
   "cell_type": "code",
   "execution_count": 8,
   "id": "7a757ab3",
   "metadata": {},
   "outputs": [],
   "source": [
    "# Biomethane potential by country (bcm/year)\n",
    "biomethane_ammonia_potentials = biomethane_potential.loc['Sustainable biomethane potential in 2030']\n",
    "biomethane_ammonia_potentials = biomethane_ammonia_potentials[biomethane_ammonia_potentials['Feedstock'] == 'TOTAL']\n",
    "biomethane_ammonia_potentials.drop(['Unit', 'Feedstock'], axis=1, inplace=True)\n",
    "\n",
    "iso_codes = list(biomethane_ammonia_potentials.columns[1:])\n",
    "countries_names = results_analysis.countries_iso_match(iso_codes)\n",
    "biomethane_ammonia_potentials = biomethane_ammonia_potentials.T.rename(index=countries_names).reset_index().rename(columns={'index': 'name'})\n",
    "biomethane_ammonia_potentials['Sustainable biomethane potential in 2030'] = pd.to_numeric(biomethane_ammonia_potentials['Sustainable biomethane potential in 2030'])\n",
    "biomethane_ammonia_potentials.rename(columns = {'Sustainable biomethane potential in 2030': 'Biomethane potential'}, inplace = True)\n",
    "\n",
    "# Biomethane-based ammonia potential (Mt/year)\n",
    "NG_CONSUMPTION_AMMONIA = 0.898843401\n",
    "biomethane_ammonia_potentials['Ammonia potential'] = biomethane_ammonia_potentials['Biomethane potential'] * NG_CONSUMPTION_AMMONIA\n",
    "\n",
    "# Ammonia production (Mt/year)\n",
    "biomethane_ammonia_potentials = biomethane_ammonia_potentials.merge(ammonia_production.rename(columns={'Country': 'name'}), on='name', how='left')\n",
    "biomethane_ammonia_potentials['Ammonia production'] = biomethane_ammonia_potentials['Ammonia production'].divide(1e9)\n",
    "\n",
    "# Biomethane required for ammonia production (bcm/year) and share of biomethane (% potential)\n",
    "biomethane_ammonia_potentials['Biomethane for ammonia production'] = biomethane_ammonia_potentials['Ammonia production'] * NG_CONSUMPTION_AMMONIA\n",
    "biomethane_ammonia_potentials['Share biomethane for ammonia production'] = biomethane_ammonia_potentials['Biomethane for ammonia production'] * 100 / biomethane_ammonia_potentials['Biomethane potential']\n",
    "\n",
    "# Average carbon footprint of the EU ammonia industry\n",
    "carbon_footprint_ammonia_industry = carbon_footprint_ammonia_RER_df.loc['Total'] * biomethane_ammonia_potentials[biomethane_ammonia_potentials['name'] == 'Total']['Ammonia production'].values[0]"
   ]
  },
  {
   "cell_type": "code",
   "execution_count": 9,
   "id": "64fbe5ef",
   "metadata": {},
   "outputs": [],
   "source": [
    "# Save results to csv\n",
    "#biomethane_ammonia_potentials.to_csv(DATA_DIR / \"results\" / f\"Table S2 Sustainable biomethane potential Europe_{datetime.datetime.today().strftime('%d-%m-%Y')}.csv\", index=False)\n",
    "#carbon_footprint_ammonia_industry.to_csv(DATA_DIR / \"results\" / f\"Table S3 Carbon footprint ammonia industry Europe_{datetime.datetime.today().strftime('%d-%m-%Y')}.csv\")"
   ]
  },
  {
   "attachments": {},
   "cell_type": "markdown",
   "id": "363fd07c",
   "metadata": {},
   "source": [
    "## Blending strategy for net-zero ammonia"
   ]
  },
  {
   "cell_type": "code",
   "execution_count": 9,
   "id": "c645b134",
   "metadata": {},
   "outputs": [],
   "source": [
    "# Compute the carbon footprint of ammonia production based on\n",
    "# the natural gas-biomethane blending strategy as a function of blending ratios\n",
    "carbon_footprint_blend_range = {}\n",
    "\n",
    "for scenario in biomethane_fossil_match:\n",
    "    # European average\n",
    "    cf_biomethane = carbon_footprint_ammonia_RER_df.loc['Total'][scenario]\n",
    "    cf_fossil = carbon_footprint_ammonia_RER_df.loc['Total'][biomethane_fossil_match[scenario]]\n",
    "\n",
    "    carbon_footprint_blend_range[scenario] = {}\n",
    "    carbon_footprint_blend_range[scenario]['Average'] = results_analysis.carbon_footprint_blending(cf_biomethane, cf_fossil)\n",
    "\n",
    "    # Country-specific\n",
    "    for country in LIST_COUNTRIES:\n",
    "        country_name = results_analysis.countries_iso_match(LIST_COUNTRIES)[country]\n",
    "        cf_biomethane = carbon_footprint_ammonia_country_df.loc[country][scenario]\n",
    "        cf_fossil = carbon_footprint_ammonia_country_df.loc[country][biomethane_fossil_match[scenario]]\n",
    "        \n",
    "        carbon_footprint_blend_range[scenario][country_name] = results_analysis.carbon_footprint_blending(cf_biomethane, cf_fossil)"
   ]
  },
  {
   "cell_type": "code",
   "execution_count": 10,
   "id": "296adb9b",
   "metadata": {},
   "outputs": [],
   "source": [
    "# Compute the share of biomethane needed in the blend to achieve net-zero emissions\n",
    "net_zero_biomethane_ratio = {}\n",
    "for scenario in carbon_footprint_blend_range:\n",
    "    net_zero_biomethane_ratio[scenario] = {}\n",
    "    for location in carbon_footprint_blend_range[scenario]:\n",
    "        net_zero_biomethane_ratio[scenario][location] = results_analysis.interpolate(carbon_footprint_blend_range[scenario][location])"
   ]
  },
  {
   "cell_type": "code",
   "execution_count": 11,
   "id": "0c4a7912",
   "metadata": {},
   "outputs": [],
   "source": [
    "net_zero_biomethane_ratio_df = pd.DataFrame(net_zero_biomethane_ratio)\n",
    "net_zero_biomethane_ratio_df.rename(index = {'Average': 'Europe'}, inplace = True)"
   ]
  },
  {
   "cell_type": "code",
   "execution_count": null,
   "id": "f2ac5dd3",
   "metadata": {},
   "outputs": [],
   "source": [
    "# Save results to csv\n",
    "#net_zero_biomethane_ratio_df.to_csv(DATA_DIR / \"results\" / f\"Fig 4 Net-zero blending ratios_{datetime.datetime.today().strftime('%d-%m-%Y')}.csv\")"
   ]
  },
  {
   "attachments": {},
   "cell_type": "markdown",
   "id": "9883fb1d",
   "metadata": {},
   "source": [
    "## Life cycle impact assessment of net-zero ammonia production\n",
    "\n",
    "Environmental impacts comparison of producing net-zero ammonia using natural gas with CCS, green H2, and biomethane with CCS"
   ]
  },
  {
   "cell_type": "code",
   "execution_count": 12,
   "id": "9dfe9bea",
   "metadata": {},
   "outputs": [],
   "source": [
    "# Calculate the impacts for ammonia production from natural gas, green H2, and biomethane\n",
    "target_inventories = ['Natural gas + CCS Syngas + CCS Heating',\n",
    "                      'Green H2',\n",
    "                      'Biomethane + CCS Upgrading + CCS Syngas + CCS Heating']\n",
    "\n",
    "ammonia_RER_LCIA = {}\n",
    "for inv in target_inventories:\n",
    "    activity = [a for a in bw.Database(LCI_DB) if a['name'] == INVENTORIES[inv][0] \n",
    "                                               and a['reference product'] == INVENTORIES[inv][1]\n",
    "                                               and a['location'] == 'RER'][0]\n",
    "    lca_results = results_analysis.multi_lcia(activity, LCIA_METHODS, amount=1)\n",
    "    ammonia_RER_LCIA[inv] = lca_results"
   ]
  },
  {
   "cell_type": "code",
   "execution_count": 13,
   "id": "fff34dea",
   "metadata": {},
   "outputs": [],
   "source": [
    "# Calculate the impacts of DACCS\n",
    "dac_daccs = [a for a in bw.Database(LCI_DB) if a['name'] == 'carbon dioxide capture, from atmosphere, solid sorbents with heat pumps, with transport and storage, 200 km pipeline storage 1000m'][0]\n",
    "daccs_LCIA = results_analysis.multi_lcia(dac_daccs, LCIA_METHODS, amount=1)"
   ]
  },
  {
   "cell_type": "code",
   "execution_count": 14,
   "id": "f2966f9a",
   "metadata": {},
   "outputs": [],
   "source": [
    "# Calculate the amount of DAC required in the \"Natural gas + CCS Syngas + CCS Heating\" and \"Green H2\" scenarios\n",
    "daccs_amount = {}\n",
    "for scenario in ['Natural gas + CCS Syngas + CCS Heating',\n",
    "                 'Green H2']:\n",
    "    cf_scenario = ammonia_RER_LCIA[scenario]['Climate change, GWP 100a']\n",
    "\n",
    "    co2_removal_range = []\n",
    "    for co2_removal in np.arange(0, 2, 0.05):\n",
    "      cf_system = cf_scenario + daccs_LCIA['Climate change, GWP 100a'] * co2_removal\n",
    "      co2_removal_range.append((co2_removal, cf_system))\n",
    "\n",
    "    co2_removal_range_df = pd.DataFrame(co2_removal_range, columns=['amount', 'impact'])\n",
    "    s = co2_removal_range_df.set_index('impact').squeeze()\n",
    "    s.loc[0] = np.nan\n",
    "    s = s.sort_index().interpolate(method='index')\n",
    "    daccs_amount[scenario] =s.loc[0]"
   ]
  },
  {
   "cell_type": "code",
   "execution_count": 15,
   "id": "d20ccd01",
   "metadata": {},
   "outputs": [
    {
     "data": {
      "text/plain": [
       "{'Natural gas + CCS Syngas + CCS Heating': 1.6856025955052838,\n",
       " 'Green H2': 0.5122019457767415}"
      ]
     },
     "execution_count": 15,
     "metadata": {},
     "output_type": "execute_result"
    }
   ],
   "source": [
    "daccs_amount"
   ]
  },
  {
   "cell_type": "code",
   "execution_count": 20,
   "id": "d25963c5",
   "metadata": {},
   "outputs": [],
   "source": [
    "# Calculate the impacts of net zero-ammonia production in the \"Natural gas + CCS Syngas + CCS Heating\" scenario\n",
    "ammonia_netzero_RER_LCIA = {}\n",
    "ammonia_netzero_RER_LCIA.update({'Natural gas + CCS Syngas + CCS Heating': {}})\n",
    "\n",
    "for impact in LCIA_METHODS:\n",
    "    if 'Climate change' in impact:\n",
    "        pass\n",
    "    else:\n",
    "        impact_ammonia = ammonia_RER_LCIA['Natural gas + CCS Syngas + CCS Heating'][impact]\n",
    "        impact_daccs = daccs_amount['Natural gas + CCS Syngas + CCS Heating'] * daccs_LCIA[impact]\n",
    "            \n",
    "        ammonia_netzero_RER_LCIA['Natural gas + CCS Syngas + CCS Heating'][impact] = {}\n",
    "        ammonia_netzero_RER_LCIA['Natural gas + CCS Syngas + CCS Heating'][impact].update({'Total': impact_ammonia + impact_daccs,\n",
    "                                                                                           'Ammonia production from natural gas with CCS': impact_ammonia,\n",
    "                                                                                           'DACCS': impact_daccs})"
   ]
  },
  {
   "cell_type": "code",
   "execution_count": 21,
   "id": "55c58fbe",
   "metadata": {},
   "outputs": [],
   "source": [
    "# Calculate the impacts of net zero-ammonia production in the \"Green H2\" scenario\n",
    "ammonia_netzero_RER_LCIA.update({'Green H2': {}})\n",
    "\n",
    "for impact in LCIA_METHODS:\n",
    "    if 'Climate change' in impact:\n",
    "        pass\n",
    "    else:\n",
    "        impact_ammonia = ammonia_RER_LCIA['Green H2'][impact]\n",
    "        impact_daccs = daccs_amount['Green H2'] * daccs_LCIA[impact]\n",
    "            \n",
    "        ammonia_netzero_RER_LCIA['Green H2'][impact] = {}\n",
    "        ammonia_netzero_RER_LCIA['Green H2'][impact].update({'Total': impact_ammonia + impact_daccs,\n",
    "                                                             'Ammonia production from green H2': impact_ammonia,\n",
    "                                                              'DACCS': impact_daccs})"
   ]
  },
  {
   "cell_type": "code",
   "execution_count": 22,
   "id": "9813b502",
   "metadata": {},
   "outputs": [],
   "source": [
    "# Calculate the impacts of net-zero ammonia in the blending strategy scenario\n",
    "ammonia_netzero_RER_LCIA.update({'Blending strategy': {}})\n",
    "\n",
    "for impact in LCIA_METHODS:\n",
    "    blend_ratio = net_zero_biomethane_ratio_df.loc['Europe'][\"Biomethane + CCS Upgrading + CCS Syngas + CCS Heating\"] / 100\n",
    "    if 'Climate change' in impact:\n",
    "        pass\n",
    "    else:\n",
    "        impact_ng = (1-blend_ratio) * ammonia_RER_LCIA['Natural gas + CCS Syngas + CCS Heating'][impact]\n",
    "        impact_biomethane = blend_ratio * ammonia_RER_LCIA['Biomethane + CCS Upgrading + CCS Syngas + CCS Heating'][impact]\n",
    "             \n",
    "        ammonia_netzero_RER_LCIA['Blending strategy'][impact] = {}\n",
    "        ammonia_netzero_RER_LCIA['Blending strategy'][impact].update({'Total': impact_ng + impact_biomethane,\n",
    "                                                                      'Ammonia production from natural gas with CCS': impact_ng,\n",
    "                                                                      'Ammonia production from biomethane with CCS': impact_biomethane})"
   ]
  },
  {
   "cell_type": "code",
   "execution_count": 23,
   "id": "1f90b49c",
   "metadata": {},
   "outputs": [],
   "source": [
    "# Function to convert the dictionary to a tidy dataframe:\n",
    "def dict_to_tidy_df(dictionary):\n",
    "    return pd.DataFrame.from_dict({(i,j): dictionary[i][j] for i in dictionary.keys() \n",
    "                                                           for j in dictionary[i].keys()},\n",
    "                                                           orient='index').reset_index().rename(columns = {'level_0': 'Scenario', 'level_1': 'Category'})"
   ]
  },
  {
   "cell_type": "code",
   "execution_count": 24,
   "id": "3cffe6d5",
   "metadata": {},
   "outputs": [],
   "source": [
    "ammonia_netzero_RER_LCIA_df = dict_to_tidy_df(ammonia_netzero_RER_LCIA)\n",
    "\n",
    "# Calculate relative impacts:\n",
    "max_impacts = ammonia_netzero_RER_LCIA_df.groupby('Category')[['Total']].max()\n",
    "\n",
    "ammonia_netzero_RER_LCIA_relative = {}\n",
    "\n",
    "for scenario in ammonia_netzero_RER_LCIA:\n",
    "    ammonia_netzero_RER_LCIA_relative[scenario] = {}\n",
    "    for impact in ammonia_netzero_RER_LCIA[scenario]:\n",
    "        ammonia_netzero_RER_LCIA_relative[scenario][impact] = {}\n",
    "        for cat in ammonia_netzero_RER_LCIA[scenario][impact]:\n",
    "            val = ammonia_netzero_RER_LCIA[scenario][impact][cat]\n",
    "            val_max = max_impacts.to_dict()['Total'][impact]\n",
    "            try:\n",
    "                ammonia_netzero_RER_LCIA_relative[scenario][impact][cat] = val / val_max\n",
    "            except ZeroDivisionError:\n",
    "                ammonia_netzero_RER_LCIA_relative[scenario][impact][cat] = 0\n",
    "\n",
    "ammonia_netzero_RER_LCIA_relative_df = dict_to_tidy_df(ammonia_netzero_RER_LCIA_relative)"
   ]
  },
  {
   "cell_type": "code",
   "execution_count": 25,
   "id": "47a51892",
   "metadata": {},
   "outputs": [],
   "source": [
    "# Save results to csv\n",
    "ammonia_netzero_RER_LCIA_df.to_csv(DATA_DIR / \"results\" / f\"Fig 5 LCIA net zero ammonia scenarios absolute_{datetime.datetime.today().strftime('%d-%m-%Y')}.csv\", index=False)\n",
    "ammonia_netzero_RER_LCIA_relative_df.to_csv(DATA_DIR / \"results\" / f\"Fig 5 LCIA net zero ammonia scenarios relative_{datetime.datetime.today().strftime('%d-%m-%Y')}.csv\", index=False)"
   ]
  },
  {
   "attachments": {},
   "cell_type": "markdown",
   "id": "08ecf4ab",
   "metadata": {},
   "source": [
    "## Sensitivity analyses / with presamples\n",
    "\n",
    "**IMPORTANT**:\n",
    "\n",
    "In order to avoid the decoding presample json file fails, you need to install the latest presample version, i.e. 0.2.8.\n",
    "\n",
    "However, the package has not been updated on pypi. To have version 0.2.8, you must install from source:\n",
    "\n",
    "*python -m pip install git+https://github.com/PascalLesage/presamples.git@master*\n",
    "\n",
    "Further information here: https://github.com/PascalLesage/presamples/issues/72"
   ]
  },
  {
   "attachments": {},
   "cell_type": "markdown",
   "id": "aa0f9284",
   "metadata": {},
   "source": [
    "**Calculate SA scenarios impacts with presamples**"
   ]
  },
  {
   "cell_type": "code",
   "execution_count": null,
   "id": "3cdef8a4",
   "metadata": {},
   "outputs": [
    {
     "name": "stdout",
     "output_type": "stream",
     "text": [
      "\n",
      " ps_id, filepath: 675b4db8321b40b9861154755a682b01 C:\\Users\\istrateir\\AppData\\Local\\pylca\\Brightway3\\iri_ei39.c70205095bde44795f389c6cb04ff68c\\presamples\\675b4db8321b40b9861154755a682b01\n"
     ]
    }
   ],
   "source": [
    "scenario_file = Path(DATA_DIR / \"sensitivity_analysis_with_presamples.xlsx\")\n",
    "\n",
    "ds_for_sa = [a for a in bw.Database(LCI_DB) if a['name'] == INVENTORIES['Biomethane + CCS Upgrading + CCS Syngas + CCS Heating'][0] \n",
    "                                               and a['reference product'] == INVENTORIES['Biomethane + CCS Upgrading + CCS Syngas + CCS Heating'][1]\n",
    "                                               and a['location'] == 'RER'][0]\n",
    "\n",
    "SA_lca_results = results_analysis.calculate_impacts_with_presamples(scenario_file, [EI_DB, LCI_DB], ds_for_sa, LCIA_METHODS)"
   ]
  },
  {
   "cell_type": "code",
   "execution_count": null,
   "id": "61722127",
   "metadata": {},
   "outputs": [
    {
     "data": {
      "text/plain": [
       "['default',\n",
       " 'SA_Upgrading_WaterScrubbing',\n",
       " 'SA_Upgrading_ChemicalScrubbing',\n",
       " 'SA_Upgrading_Membrane',\n",
       " 'SA_Upgrading_PSA']"
      ]
     },
     "execution_count": 53,
     "metadata": {},
     "output_type": "execute_result"
    }
   ],
   "source": [
    "SA_SCENARIOS = list(SA_lca_results.columns)\n",
    "SA_SCENARIOS"
   ]
  },
  {
   "cell_type": "code",
   "execution_count": null,
   "id": "ca39de9c",
   "metadata": {},
   "outputs": [],
   "source": [
    "# Calculate the blending ratio for net-zero ammonia for the SA scenarios\n",
    "\n",
    "# Compute the carbon footprint of ammonia production based on\n",
    "# the natural gas-biomethane blending strategy as a function of blending ratios\n",
    "SA_blend_GWP100_range = {}\n",
    "\n",
    "for scenario in SA_SCENARIOS:\n",
    "    cf_fossil = ammonia_RER_GWP100.loc['Total'][biomethane_fossil_match['Biomethane + CCS Upgrading + CCS Syngas + CCS Heating']]\n",
    "    cf_biomethane = SA_lca_results.loc['Climate change, GWP 100a'][scenario]\n",
    "    SA_blend_GWP100_range[scenario] = carbon_footprint_blending_ratios(cf_biomethane, cf_fossil)\n",
    "        \n",
    "# Compute the share of biomethane needed in the blend to achieve net-zero emissions\n",
    "SA_net_zero_biomethane_ratio = {}\n",
    "for scenario in SA_blend_GWP100_range:\n",
    "    SA_net_zero_biomethane_ratio[scenario] = biomethane_share_for_netzero(SA_blend_GWP100_range[scenario])\n",
    "\n",
    "SA_net_zero_biomethane_ratio_df = pd.DataFrame(SA_net_zero_biomethane_ratio, index=['value']).T"
   ]
  },
  {
   "cell_type": "code",
   "execution_count": null,
   "id": "1fb93e7f",
   "metadata": {},
   "outputs": [],
   "source": [
    "# Calculate the impacts of the blending strategy\n",
    "SA_netzero_lcia = {}\n",
    "\n",
    "for impact in LCIA_METHODS:\n",
    "    SA_netzero_lcia[impact] = {}\n",
    "    for scenario in SA_SCENARIOS:\n",
    "        blend_ratio = SA_net_zero_biomethane_ratio[scenario] / 100\n",
    "        blend_impact = (1-blend_ratio) * ammonia_RER_LCIA['Natural gas + CCS Syngas + CCS Heating'][impact] + \\\n",
    "                        blend_ratio * SA_lca_results.loc[impact][scenario]\n",
    "        SA_netzero_lcia[impact][scenario] = blend_impact\n",
    "\n",
    "SA_netzero_lcia_df = pd.DataFrame(SA_netzero_lcia).T\n",
    "\n",
    "# Append impacts for the Net-zero blue and Net-zero green scenarios:\n",
    "netzero_blue_impacts = ammonia_netzero_RER_LCIA_df[(ammonia_netzero_RER_LCIA_df['Scenario'] == \"Natural gas + CCS Syngas + CCS Heating\")][['Category', 'Total']].set_index('Category')\n",
    "netzero_green_impacts = ammonia_netzero_RER_LCIA_df[(ammonia_netzero_RER_LCIA_df['Scenario'] == \"Green H2\")][['Category', 'Total']].set_index('Category')\n",
    "\n",
    "SA_netzero_lcia_all_df = SA_netzero_lcia_df.iloc[2:].merge(netzero_blue_impacts, left_index=True, right_index=True).merge(netzero_green_impacts, left_index=True, right_index=True)\n",
    "SA_netzero_lcia_all_df.rename(columns={'Total_x': 'Net-zero blue',\n",
    "                                       'Total_y': 'Net-zero green',\n",
    "                                       'default': 'Net-zero biomethane'}, inplace=True)\n",
    "\n",
    "# Compute the relative impacts:\n",
    "SA_netzero_lcia_relative_df = SA_netzero_lcia_all_df.div(SA_netzero_lcia_all_df.max(axis=1), axis=0)"
   ]
  },
  {
   "cell_type": "code",
   "execution_count": null,
   "id": "d0b82a25",
   "metadata": {},
   "outputs": [],
   "source": [
    "# Save results to csv\n",
    "SA_net_zero_biomethane_ratio_df.to_csv(DATA_DIR / \"results\" / \"SA_netzero_biomethane_blend.csv\")\n",
    "SA_netzero_lcia_all_df.to_csv(DATA_DIR / \"results\" / \"SA_netzero_ammonia_LCIA_totals.csv\")\n",
    "SA_netzero_lcia_relative_df.to_csv(DATA_DIR / \"results\" / \"SA_netzero_ammonia_LCIA_relative.csv\")"
   ]
  }
 ],
 "metadata": {
  "kernelspec": {
   "display_name": "iri",
   "language": "python",
   "name": "python3"
  },
  "language_info": {
   "codemirror_mode": {
    "name": "ipython",
    "version": 3
   },
   "file_extension": ".py",
   "mimetype": "text/x-python",
   "name": "python",
   "nbconvert_exporter": "python",
   "pygments_lexer": "ipython3",
   "version": "3.10.2"
  },
  "vscode": {
   "interpreter": {
    "hash": "b28f1ee35b4592b333223f485860f9fc9a4d93b2461d2d59bed3ea87239938d2"
   }
  }
 },
 "nbformat": 4,
 "nbformat_minor": 5
}
